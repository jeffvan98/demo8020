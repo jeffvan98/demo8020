{
 "cells": [
  {
   "cell_type": "markdown",
   "id": "b91d1363-7c61-444c-bd01-10549ca198dd",
   "metadata": {},
   "source": [
    "# Test Notebook"
   ]
  },
  {
   "cell_type": "code",
   "execution_count": null,
   "id": "397a33b3-4a93-44fc-a3ea-f7f7042c0220",
   "metadata": {},
   "outputs": [],
   "source": [
    "from azure.identity import DefaultAzureCredential\n",
    "from azure.keyvault.secrets import SecretClient\n",
    "from datetime import datetime\n",
    "import os\n",
    "import pandas as pd\n",
    "import pymongo\n",
    "\n",
    "vault_url = os.environ.get(\"REPORT_WRITER_KEY_VAULT_URL\", \"https://vault7c02.vault.azure.net\")\n",
    "secret_name = os.environ.get(\"REPORT_WRITER_SECRET_NAME\", \"mongo-connection\")\n",
    "database_name = os.environ.get(\"REPORT_WRITER_DATABASE_NAME\", \"PatientData\")\n",
    "collection_name = os.environ.get(\"REPORT_WRITER_COLLECTION_NAME\", \"Default\")\n",
    "\n",
    "credential = DefaultAzureCredential()\n",
    "vault_client = SecretClient(vault_url=vault_url, credential=credential)\n",
    "connection_string = vault_client.get_secret(secret_name)\n",
    "\n",
    "mongo_client = pymongo.MongoClient(connection_string.value)\n",
    "database = mongo_client[database_name]\n",
    "collection = database[collection_name]\n",
    "\n",
    "collection_size = collection.count_documents({})\n",
    "\n",
    "print(datetime.now())\n",
    "print(collection_size)"
   ]
  },
  {
   "cell_type": "code",
   "execution_count": null,
   "id": "0d764350-cba1-4d13-940e-a1523beffdeb",
   "metadata": {},
   "outputs": [],
   "source": []
  }
 ],
 "metadata": {
  "kernelspec": {
   "display_name": "Python 3 (ipykernel)",
   "language": "python",
   "name": "python3"
  },
  "language_info": {
   "codemirror_mode": {
    "name": "ipython",
    "version": 3
   },
   "file_extension": ".py",
   "mimetype": "text/x-python",
   "name": "python",
   "nbconvert_exporter": "python",
   "pygments_lexer": "ipython3",
   "version": "3.12.1"
  }
 },
 "nbformat": 4,
 "nbformat_minor": 5
}
